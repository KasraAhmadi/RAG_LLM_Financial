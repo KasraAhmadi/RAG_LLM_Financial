{
 "cells": [
  {
   "cell_type": "code",
   "execution_count": 206,
   "id": "b5a14ded-8c37-4c43-ba9c-4f36338e4a61",
   "metadata": {},
   "outputs": [],
   "source": [
    "import json\n",
    "import re\n",
    "from transformers import AutoTokenizer, AutoModelForCausalLM, pipeline\n",
    "import pymupdf4llm\n",
    "from collections import defaultdict\n",
    "# from huggingface_hub import login\n",
    "# login()"
   ]
  },
  {
   "cell_type": "code",
   "execution_count": null,
   "id": "075e0900-5d2c-4315-968c-a5bbd7479760",
   "metadata": {},
   "outputs": [],
   "source": []
  },
  {
   "cell_type": "code",
   "execution_count": null,
   "id": "f7d4b9d6-e64f-473d-9f5a-04d0389d441a",
   "metadata": {},
   "outputs": [],
   "source": [
    "model_name = \"meta-llama/Llama-2-7b-chat-hf\"\n",
    "# Load the tokenizer and model\n",
    "tokenizer = AutoTokenizer.from_pretrained(model_name)\n",
    "model = AutoModelForCausalLM.from_pretrained(model_name, device_map=\"auto\")\n",
    "# Create a generation pipeline\n",
    "generator = pipeline(\"text-generation\", model=model, tokenizer=tokenizer)"
   ]
  },
  {
   "cell_type": "code",
   "execution_count": 222,
   "id": "aa81386b-cca1-495f-a8cf-2e82927c255b",
   "metadata": {},
   "outputs": [],
   "source": [
    "def generate_qa_pairs(chunk):\n",
    "    # A prompt crafted to encourage generating QA pairs in a clear, educational tone\n",
    "    # prompt = (\n",
    "    #     \"You are a financial education assistant for youths. Read the following passage and generate a clear, \"\n",
    "    #     \"engaging multiple choice (4 choice) question-answer that test the key concepts. Avoid the questions like what is the main idea of the passage, cause the passage is not known. Questions and answers must be short. Use simple language appropriate for young learners. The format of output should be question:, a:, b:, c:, d:, correct: {a,b,c,d}.\\n\\n\"\n",
    "    #     \"Passage:\\n\" + chunk\n",
    "    # )\n",
    "    prompt = (\n",
    "    \"You are a financial education assistant for youths. Read the following passage and generate a clear, concise, and engaging \"\n",
    "    \"multiple-choice question (4 options) that tests a key financial concept. Do not ask about the main idea, since the overall context is unknown. \"\n",
    "    \"Keep both the question and answers short and simple, using language appropriate for young learners. Format your output exactly as follows: \"\n",
    "    \"question:, a:, b:, c:, d:, correct: {a, b, c, d}.\\n\\n\"\n",
    "    \"Passage:\\n\" + chunk\n",
    ")\n",
    "    # Generate the output; adjust max_length, temperature, and other parameters as needed\n",
    "    result = generator(prompt, max_length=1024, do_sample=True, temperature=0.7)\n",
    "    return result[0][\"generated_text\"]\n"
   ]
  },
  {
   "cell_type": "code",
   "execution_count": 223,
   "id": "6e543e8a-1641-4c47-bea9-fba7045cdba8",
   "metadata": {},
   "outputs": [],
   "source": [
    "def to_json(text):\n",
    "    data = {}\n",
    "    \n",
    "    # Extract the question text.\n",
    "    # This regex finds the line starting with \"Question:\" and captures everything after it.\n",
    "    question_match = re.search(r\"Question[:\\)]\\s*(.*)\", text)\n",
    "    if question_match:\n",
    "        question = question_match.group(1).strip()\n",
    "        data[\"question\"] = question\n",
    "    else:\n",
    "        return None\n",
    "    \n",
    "    # Extract answer choices.\n",
    "    # This regex finds any occurrence of a letter (A-D or a-d) followed by ')'\n",
    "    # and then captures the rest of the text on that line.\n",
    "    choices = re.findall(r\"([A-Da-d])[\\):]\\s*(.*)\", text)\n",
    "    # We'll use lower-case keys for consistent JSON keys.\n",
    "    for letter, choice in choices:\n",
    "        data[letter.lower()] = choice.strip()\n",
    "    if(len(choices) == 0):\n",
    "        return None\n",
    "    # Extract the correct answer.\n",
    "    # The regex finds \"Correct answer:\" followed by a letter (A-D, case-insensitive) and a colon.\n",
    "    correct_match = re.search(r\"Correct answer:\\s*([A-Da-d])\", text)\n",
    "    if correct_match:\n",
    "        data[\"correct_answer\"] = correct_match.group(1).lower()\n",
    "    else:\n",
    "        return None\n",
    "        \n",
    "    \n",
    "    return data"
   ]
  },
  {
   "cell_type": "code",
   "execution_count": 260,
   "id": "59c9eacf-1873-45c6-a4b7-a7c017268228",
   "metadata": {},
   "outputs": [],
   "source": [
    "def parse_md(md_text):\n",
    "    pattern = re.compile(r'(?s)\\*\\*SAY\\*\\*(.*?)(?=\\n\\*|$)')\n",
    "    matches = pattern.findall(md_text)\n",
    "    extracted_segments = []\n",
    "    for match in matches:\n",
    "        if match.strip():\n",
    "            cleaned = match.strip().replace('\\n', ' ').replace('¡', '')\n",
    "            cleaned = re.sub(r'\\s+', ' ', cleaned)\n",
    "            extracted_segments.append(cleaned)\n",
    "    return extracted_segments\n",
    "    \n",
    "def generate_segments(files):\n",
    "    extracted_segments_map = {}\n",
    "    for pdf_file in files:\n",
    "        md_text = pymupdf4llm.to_markdown(\"./data/\" +pdf_file+\".pdf\")\n",
    "        extracted_segments_map[pdf_file] = parse_md(md_text)\n",
    "    return extracted_segments_map\n",
    "    \n",
    "def generate_questions(segments_map):\n",
    "    questions_json = {}\n",
    "    for key in segments_map:\n",
    "        questions_list = {\n",
    "            \"questions\": []\n",
    "        }\n",
    "        starting_point = 3\n",
    "        for index in range(starting_point,len(segments_map[key])):\n",
    "            question = None\n",
    "            while(question == None):\n",
    "                question = to_json(generate_qa_pairs(segments_map[key][index]))\n",
    "            questions_list[\"questions\"].append(question)\n",
    "        questions_json[key] = questions_list\n",
    "    return questions_json\n",
    "        "
   ]
  },
  {
   "cell_type": "code",
   "execution_count": 254,
   "id": "accdf99f-88d2-411c-a911-f6c07acaec58",
   "metadata": {},
   "outputs": [],
   "source": [
    "files = [\"borrowing\",\"buy_car\",\"credit\",\"financial_decision\",\"financial_institution\",\"income\",\"living_on_your_own\",\"saving_plan\"]\n",
    "segments = generate_segments(files)"
   ]
  },
  {
   "cell_type": "code",
   "execution_count": 261,
   "id": "fd1a5763-1bbc-4967-a83d-717875bc025e",
   "metadata": {},
   "outputs": [],
   "source": [
    "questions = generate_questions(segments)\n",
    "file_path = \"./questions.json\"\n",
    "with open(file_path, 'w') as json_file:\n",
    "    json.dump(questions, json_file, indent=4)"
   ]
  },
  {
   "cell_type": "code",
   "execution_count": null,
   "id": "56335cf4-4de1-4f19-8f75-ff9a7bc413c6",
   "metadata": {},
   "outputs": [],
   "source": []
  }
 ],
 "metadata": {
  "kernelspec": {
   "display_name": "Python 3 (ipykernel)",
   "language": "python",
   "name": "python3"
  },
  "language_info": {
   "codemirror_mode": {
    "name": "ipython",
    "version": 3
   },
   "file_extension": ".py",
   "mimetype": "text/x-python",
   "name": "python",
   "nbconvert_exporter": "python",
   "pygments_lexer": "ipython3",
   "version": "3.10.12"
  }
 },
 "nbformat": 4,
 "nbformat_minor": 5
}
